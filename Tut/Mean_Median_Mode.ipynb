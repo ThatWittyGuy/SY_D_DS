{
  "nbformat": 4,
  "nbformat_minor": 0,
  "metadata": {
    "colab": {
      "provenance": []
    },
    "kernelspec": {
      "name": "python3",
      "display_name": "Python 3"
    },
    "language_info": {
      "name": "python"
    }
  },
  "cells": [
    {
      "cell_type": "markdown",
      "source": [
        "# Case Study: Mean vs Median vs Mode"
      ],
      "metadata": {
        "id": "uitCfS0BgJxl"
      }
    },
    {
      "cell_type": "code",
      "execution_count": 1,
      "metadata": {
        "id": "1iJ6X0pjfPqX"
      },
      "outputs": [],
      "source": [
        "# Importing necessary libraries\n",
        "import pandas as pd\n",
        "import numpy as np\n",
        "import matplotlib.pyplot as plt\n",
        "import seaborn as sns"
      ]
    },
    {
      "cell_type": "code",
      "source": [
        "# Create a sample dataset for Retail Product Sales\n",
        "data = {\n",
        "    'product_category': ['Electronics', 'Clothing', 'Home Appliances', 'Electronics', 'Clothing', 'Electronics', 'Clothing', 'Home Appliances', 'Electronics', 'Home Appliances'],\n",
        "    'units_sold': [250, 150, 100, 300, 200, 1000, 350, 120, 600, 200]\n",
        "}\n",
        "\n",
        "# Create a DataFrame\n",
        "df = pd.DataFrame(data)\n",
        "\n",
        "# Display the first few rows of the dataset\n",
        "df.head()\n"
      ],
      "metadata": {
        "colab": {
          "base_uri": "https://localhost:8080/",
          "height": 206
        },
        "id": "dAjZ1ymifbga",
        "outputId": "968dcb0f-ed5b-4206-81fb-89b4454c6584"
      },
      "execution_count": 2,
      "outputs": [
        {
          "output_type": "execute_result",
          "data": {
            "text/plain": [
              "  product_category  units_sold\n",
              "0      Electronics         250\n",
              "1         Clothing         150\n",
              "2  Home Appliances         100\n",
              "3      Electronics         300\n",
              "4         Clothing         200"
            ],
            "text/html": [
              "\n",
              "  <div id=\"df-ebffdca4-7808-4d58-b0d8-c3cc63501fb1\" class=\"colab-df-container\">\n",
              "    <div>\n",
              "<style scoped>\n",
              "    .dataframe tbody tr th:only-of-type {\n",
              "        vertical-align: middle;\n",
              "    }\n",
              "\n",
              "    .dataframe tbody tr th {\n",
              "        vertical-align: top;\n",
              "    }\n",
              "\n",
              "    .dataframe thead th {\n",
              "        text-align: right;\n",
              "    }\n",
              "</style>\n",
              "<table border=\"1\" class=\"dataframe\">\n",
              "  <thead>\n",
              "    <tr style=\"text-align: right;\">\n",
              "      <th></th>\n",
              "      <th>product_category</th>\n",
              "      <th>units_sold</th>\n",
              "    </tr>\n",
              "  </thead>\n",
              "  <tbody>\n",
              "    <tr>\n",
              "      <th>0</th>\n",
              "      <td>Electronics</td>\n",
              "      <td>250</td>\n",
              "    </tr>\n",
              "    <tr>\n",
              "      <th>1</th>\n",
              "      <td>Clothing</td>\n",
              "      <td>150</td>\n",
              "    </tr>\n",
              "    <tr>\n",
              "      <th>2</th>\n",
              "      <td>Home Appliances</td>\n",
              "      <td>100</td>\n",
              "    </tr>\n",
              "    <tr>\n",
              "      <th>3</th>\n",
              "      <td>Electronics</td>\n",
              "      <td>300</td>\n",
              "    </tr>\n",
              "    <tr>\n",
              "      <th>4</th>\n",
              "      <td>Clothing</td>\n",
              "      <td>200</td>\n",
              "    </tr>\n",
              "  </tbody>\n",
              "</table>\n",
              "</div>\n",
              "    <div class=\"colab-df-buttons\">\n",
              "\n",
              "  <div class=\"colab-df-container\">\n",
              "    <button class=\"colab-df-convert\" onclick=\"convertToInteractive('df-ebffdca4-7808-4d58-b0d8-c3cc63501fb1')\"\n",
              "            title=\"Convert this dataframe to an interactive table.\"\n",
              "            style=\"display:none;\">\n",
              "\n",
              "  <svg xmlns=\"http://www.w3.org/2000/svg\" height=\"24px\" viewBox=\"0 -960 960 960\">\n",
              "    <path d=\"M120-120v-720h720v720H120Zm60-500h600v-160H180v160Zm220 220h160v-160H400v160Zm0 220h160v-160H400v160ZM180-400h160v-160H180v160Zm440 0h160v-160H620v160ZM180-180h160v-160H180v160Zm440 0h160v-160H620v160Z\"/>\n",
              "  </svg>\n",
              "    </button>\n",
              "\n",
              "  <style>\n",
              "    .colab-df-container {\n",
              "      display:flex;\n",
              "      gap: 12px;\n",
              "    }\n",
              "\n",
              "    .colab-df-convert {\n",
              "      background-color: #E8F0FE;\n",
              "      border: none;\n",
              "      border-radius: 50%;\n",
              "      cursor: pointer;\n",
              "      display: none;\n",
              "      fill: #1967D2;\n",
              "      height: 32px;\n",
              "      padding: 0 0 0 0;\n",
              "      width: 32px;\n",
              "    }\n",
              "\n",
              "    .colab-df-convert:hover {\n",
              "      background-color: #E2EBFA;\n",
              "      box-shadow: 0px 1px 2px rgba(60, 64, 67, 0.3), 0px 1px 3px 1px rgba(60, 64, 67, 0.15);\n",
              "      fill: #174EA6;\n",
              "    }\n",
              "\n",
              "    .colab-df-buttons div {\n",
              "      margin-bottom: 4px;\n",
              "    }\n",
              "\n",
              "    [theme=dark] .colab-df-convert {\n",
              "      background-color: #3B4455;\n",
              "      fill: #D2E3FC;\n",
              "    }\n",
              "\n",
              "    [theme=dark] .colab-df-convert:hover {\n",
              "      background-color: #434B5C;\n",
              "      box-shadow: 0px 1px 3px 1px rgba(0, 0, 0, 0.15);\n",
              "      filter: drop-shadow(0px 1px 2px rgba(0, 0, 0, 0.3));\n",
              "      fill: #FFFFFF;\n",
              "    }\n",
              "  </style>\n",
              "\n",
              "    <script>\n",
              "      const buttonEl =\n",
              "        document.querySelector('#df-ebffdca4-7808-4d58-b0d8-c3cc63501fb1 button.colab-df-convert');\n",
              "      buttonEl.style.display =\n",
              "        google.colab.kernel.accessAllowed ? 'block' : 'none';\n",
              "\n",
              "      async function convertToInteractive(key) {\n",
              "        const element = document.querySelector('#df-ebffdca4-7808-4d58-b0d8-c3cc63501fb1');\n",
              "        const dataTable =\n",
              "          await google.colab.kernel.invokeFunction('convertToInteractive',\n",
              "                                                    [key], {});\n",
              "        if (!dataTable) return;\n",
              "\n",
              "        const docLinkHtml = 'Like what you see? Visit the ' +\n",
              "          '<a target=\"_blank\" href=https://colab.research.google.com/notebooks/data_table.ipynb>data table notebook</a>'\n",
              "          + ' to learn more about interactive tables.';\n",
              "        element.innerHTML = '';\n",
              "        dataTable['output_type'] = 'display_data';\n",
              "        await google.colab.output.renderOutput(dataTable, element);\n",
              "        const docLink = document.createElement('div');\n",
              "        docLink.innerHTML = docLinkHtml;\n",
              "        element.appendChild(docLink);\n",
              "      }\n",
              "    </script>\n",
              "  </div>\n",
              "\n",
              "\n",
              "<div id=\"df-c7289def-671c-418e-bd5c-f480f25e6149\">\n",
              "  <button class=\"colab-df-quickchart\" onclick=\"quickchart('df-c7289def-671c-418e-bd5c-f480f25e6149')\"\n",
              "            title=\"Suggest charts\"\n",
              "            style=\"display:none;\">\n",
              "\n",
              "<svg xmlns=\"http://www.w3.org/2000/svg\" height=\"24px\"viewBox=\"0 0 24 24\"\n",
              "     width=\"24px\">\n",
              "    <g>\n",
              "        <path d=\"M19 3H5c-1.1 0-2 .9-2 2v14c0 1.1.9 2 2 2h14c1.1 0 2-.9 2-2V5c0-1.1-.9-2-2-2zM9 17H7v-7h2v7zm4 0h-2V7h2v10zm4 0h-2v-4h2v4z\"/>\n",
              "    </g>\n",
              "</svg>\n",
              "  </button>\n",
              "\n",
              "<style>\n",
              "  .colab-df-quickchart {\n",
              "      --bg-color: #E8F0FE;\n",
              "      --fill-color: #1967D2;\n",
              "      --hover-bg-color: #E2EBFA;\n",
              "      --hover-fill-color: #174EA6;\n",
              "      --disabled-fill-color: #AAA;\n",
              "      --disabled-bg-color: #DDD;\n",
              "  }\n",
              "\n",
              "  [theme=dark] .colab-df-quickchart {\n",
              "      --bg-color: #3B4455;\n",
              "      --fill-color: #D2E3FC;\n",
              "      --hover-bg-color: #434B5C;\n",
              "      --hover-fill-color: #FFFFFF;\n",
              "      --disabled-bg-color: #3B4455;\n",
              "      --disabled-fill-color: #666;\n",
              "  }\n",
              "\n",
              "  .colab-df-quickchart {\n",
              "    background-color: var(--bg-color);\n",
              "    border: none;\n",
              "    border-radius: 50%;\n",
              "    cursor: pointer;\n",
              "    display: none;\n",
              "    fill: var(--fill-color);\n",
              "    height: 32px;\n",
              "    padding: 0;\n",
              "    width: 32px;\n",
              "  }\n",
              "\n",
              "  .colab-df-quickchart:hover {\n",
              "    background-color: var(--hover-bg-color);\n",
              "    box-shadow: 0 1px 2px rgba(60, 64, 67, 0.3), 0 1px 3px 1px rgba(60, 64, 67, 0.15);\n",
              "    fill: var(--button-hover-fill-color);\n",
              "  }\n",
              "\n",
              "  .colab-df-quickchart-complete:disabled,\n",
              "  .colab-df-quickchart-complete:disabled:hover {\n",
              "    background-color: var(--disabled-bg-color);\n",
              "    fill: var(--disabled-fill-color);\n",
              "    box-shadow: none;\n",
              "  }\n",
              "\n",
              "  .colab-df-spinner {\n",
              "    border: 2px solid var(--fill-color);\n",
              "    border-color: transparent;\n",
              "    border-bottom-color: var(--fill-color);\n",
              "    animation:\n",
              "      spin 1s steps(1) infinite;\n",
              "  }\n",
              "\n",
              "  @keyframes spin {\n",
              "    0% {\n",
              "      border-color: transparent;\n",
              "      border-bottom-color: var(--fill-color);\n",
              "      border-left-color: var(--fill-color);\n",
              "    }\n",
              "    20% {\n",
              "      border-color: transparent;\n",
              "      border-left-color: var(--fill-color);\n",
              "      border-top-color: var(--fill-color);\n",
              "    }\n",
              "    30% {\n",
              "      border-color: transparent;\n",
              "      border-left-color: var(--fill-color);\n",
              "      border-top-color: var(--fill-color);\n",
              "      border-right-color: var(--fill-color);\n",
              "    }\n",
              "    40% {\n",
              "      border-color: transparent;\n",
              "      border-right-color: var(--fill-color);\n",
              "      border-top-color: var(--fill-color);\n",
              "    }\n",
              "    60% {\n",
              "      border-color: transparent;\n",
              "      border-right-color: var(--fill-color);\n",
              "    }\n",
              "    80% {\n",
              "      border-color: transparent;\n",
              "      border-right-color: var(--fill-color);\n",
              "      border-bottom-color: var(--fill-color);\n",
              "    }\n",
              "    90% {\n",
              "      border-color: transparent;\n",
              "      border-bottom-color: var(--fill-color);\n",
              "    }\n",
              "  }\n",
              "</style>\n",
              "\n",
              "  <script>\n",
              "    async function quickchart(key) {\n",
              "      const quickchartButtonEl =\n",
              "        document.querySelector('#' + key + ' button');\n",
              "      quickchartButtonEl.disabled = true;  // To prevent multiple clicks.\n",
              "      quickchartButtonEl.classList.add('colab-df-spinner');\n",
              "      try {\n",
              "        const charts = await google.colab.kernel.invokeFunction(\n",
              "            'suggestCharts', [key], {});\n",
              "      } catch (error) {\n",
              "        console.error('Error during call to suggestCharts:', error);\n",
              "      }\n",
              "      quickchartButtonEl.classList.remove('colab-df-spinner');\n",
              "      quickchartButtonEl.classList.add('colab-df-quickchart-complete');\n",
              "    }\n",
              "    (() => {\n",
              "      let quickchartButtonEl =\n",
              "        document.querySelector('#df-c7289def-671c-418e-bd5c-f480f25e6149 button');\n",
              "      quickchartButtonEl.style.display =\n",
              "        google.colab.kernel.accessAllowed ? 'block' : 'none';\n",
              "    })();\n",
              "  </script>\n",
              "</div>\n",
              "\n",
              "    </div>\n",
              "  </div>\n"
            ],
            "application/vnd.google.colaboratory.intrinsic+json": {
              "type": "dataframe",
              "variable_name": "df",
              "summary": "{\n  \"name\": \"df\",\n  \"rows\": 10,\n  \"fields\": [\n    {\n      \"column\": \"product_category\",\n      \"properties\": {\n        \"dtype\": \"category\",\n        \"num_unique_values\": 3,\n        \"samples\": [\n          \"Electronics\",\n          \"Clothing\",\n          \"Home Appliances\"\n        ],\n        \"semantic_type\": \"\",\n        \"description\": \"\"\n      }\n    },\n    {\n      \"column\": \"units_sold\",\n      \"properties\": {\n        \"dtype\": \"number\",\n        \"std\": 277,\n        \"min\": 100,\n        \"max\": 1000,\n        \"num_unique_values\": 9,\n        \"samples\": [\n          120,\n          150,\n          1000\n        ],\n        \"semantic_type\": \"\",\n        \"description\": \"\"\n      }\n    }\n  ]\n}"
            }
          },
          "metadata": {},
          "execution_count": 2
        }
      ]
    },
    {
      "cell_type": "code",
      "source": [
        "# Calculate Mean\n",
        "mean_sales = df['units_sold'].mean()\n",
        "print(f\"Mean of units sold: {mean_sales}\")\n",
        "\n",
        "# Calculate Median\n",
        "median_sales = df['units_sold'].median()\n",
        "print(f\"Median of units sold: {median_sales}\")\n",
        "\n",
        "# Calculate Mode\n",
        "mode_sales = df['units_sold'].mode()[0]\n",
        "print(f\"Mode of units sold: {mode_sales}\")\n"
      ],
      "metadata": {
        "colab": {
          "base_uri": "https://localhost:8080/"
        },
        "id": "JdVu8FQHfgb9",
        "outputId": "e857a737-015f-40c6-c675-09955827575a"
      },
      "execution_count": 3,
      "outputs": [
        {
          "output_type": "stream",
          "name": "stdout",
          "text": [
            "Mean of units sold: 327.0\n",
            "Median of units sold: 225.0\n",
            "Mode of units sold: 200\n"
          ]
        }
      ]
    },
    {
      "cell_type": "code",
      "source": [
        "# Create a box plot to visualize the distribution of units sold\n",
        "plt.figure(figsize=(8, 6))\n",
        "sns.boxplot(x=df['units_sold'])\n",
        "plt.title('Box Plot of Units Sold')\n",
        "plt.show()\n"
      ],
      "metadata": {
        "colab": {
          "base_uri": "https://localhost:8080/",
          "height": 564
        },
        "id": "pEzrhzrmfkmJ",
        "outputId": "53904c99-db22-466b-aa0d-3ec64ac30762"
      },
      "execution_count": 4,
      "outputs": [
        {
          "output_type": "display_data",
          "data": {
            "text/plain": [
              "<Figure size 800x600 with 1 Axes>"
            ],
            "image/png": "[encoded data removed]"
          },
          "metadata": {}
        }
      ]
    },
    {
      "cell_type": "markdown",
      "source": [
        "Box Plot:\n",
        "\n",
        "- The box plot gives an overall sense of the data distribution, showing the median (middle line of the box) and any outliers. The whiskers represent the range, and the box represents the interquartile range (IQR)."
      ],
      "metadata": {
        "id": "Oal3hUzPg-2I"
      }
    },
    {
      "cell_type": "markdown",
      "source": [
        "## 1. Box Plot\n",
        "\n",
        "**Output & Interpretation:**\n",
        "\n",
        "- Box Plot displays the spread of the data through quartiles and highlights potential outliers.\n",
        "- The central line within the box represents the median, which divides the dataset into two halves.\n",
        "- The top and bottom edges of the box represent the 25th and 75th percentiles, respectively (also known as the interquartile range or IQR).\n",
        "- The whiskers extend to the minimum and maximum data points within 1.5 times the IQR. Data points outside of this range are considered outliers and are marked individually.\n",
        "- Outliers are typically values that are far from the central bulk of the data, and they can have a significant impact on the mean.\n",
        "\n",
        "What This Tells Us:\n",
        "\n",
        "- The median is central, and it shows the middle value of the dataset without being influenced by outliers.\n",
        "- If the mean and median are far apart, it suggests the data may be skewed. In this case, a higher mean than median suggests the presence of right skewness (a long tail of high values).\n",
        "- The outliers might influence the mean, making it less representative of the \"typical\" data point in the dataset."
      ],
      "metadata": {
        "id": "xM5SzmDqh6ge"
      }
    },
    {
      "cell_type": "code",
      "source": [
        "# Create a histogram to visualize the distribution of units sold\n",
        "plt.figure(figsize=(8, 6))\n",
        "sns.histplot(df['units_sold'], bins=10, kde=True)\n",
        "plt.axvline(mean_sales, color='r', linestyle='--', label=f'Mean: {mean_sales}')\n",
        "plt.axvline(median_sales, color='g', linestyle='-', label=f'Median: {median_sales}')\n",
        "plt.axvline(mode_sales, color='b', linestyle='-', label=f'Mode: {mode_sales}')\n",
        "plt.title('Histogram of Units Sold')\n",
        "plt.legend()\n",
        "plt.show()"
      ],
      "metadata": {
        "colab": {
          "base_uri": "https://localhost:8080/",
          "height": 564
        },
        "id": "UOelpVvvfpSb",
        "outputId": "7766190d-9468-4e55-cea6-cfd6808cd968"
      },
      "execution_count": 5,
      "outputs": [
        {
          "output_type": "display_data",
          "data": {
            "text/plain": [
              "<Figure size 800x600 with 1 Axes>"
            ],
            "image/png": "[encoded data removed]"
          },
          "metadata": {}
        }
      ]
    },
    {
      "cell_type": "markdown",
      "source": [
        "Histogram:\n",
        "\n",
        "- The histogram shows the frequency of the units sold for different ranges of values. The mean, median, and mode are marked with vertical lines, helping us see how these measures align with the distribution.\n",
        "- This is especially useful when the data has a skewed distribution, as the mean might be pulled towards outliers, while the median will be more robust."
      ],
      "metadata": {
        "id": "iTIyfwIfhIS8"
      }
    },
    {
      "cell_type": "markdown",
      "source": [
        "## 2. Histogram with Mean, Median, and Mode\n",
        "**Output & Interpretation:**\n",
        "\n",
        "- Histogram shows the distribution of the data. It displays the frequency of different ranges of sales values (or units sold).\n",
        "- The vertical lines for the mean, median, and mode help you visualize how each measure corresponds to the distribution.\n",
        "- Mean (Red line): Represents the average of the data. In the presence of outliers or skewed data, the mean might be shifted toward those extreme values.\n",
        "- Median (Green line): The middle value of the dataset, unaffected by extreme outliers.\n",
        "- Mode (Blue line): The most frequent value in the dataset. It may not always be aligned with the mean or median, especially in cases where there are many modes (i.e., multimodal distribution).\n",
        "\n",
        "What This Tells Us:\n",
        "\n",
        "- If the mean is far to the right (larger than the median), the data is right-skewed (positively skewed), meaning there are some high sales values pulling the mean up.\n",
        "- If the mean is to the left of the median, the data is left-skewed (negatively skewed), where low values are pulling the mean down.\n",
        "- The mode might differ from the mean or median when the dataset has a multimodal distribution (multiple peaks). For example, there could be multiple popular sales values (like 100 and 200 units), with mode highlighting the most common ones."
      ],
      "metadata": {
        "id": "8xPUrHyPiN4V"
      }
    },
    {
      "cell_type": "code",
      "source": [
        "# --- 3. Scatter Plot (For comparison of individual data points) ---\n",
        "plt.figure(figsize=(8, 6))\n",
        "sns.scatterplot(x=np.arange(len(df)), y=df['units_sold'], color='orange', label='Data points')\n",
        "plt.axhline(mean_sales, color='r', linestyle='--', label=f'Mean: {mean_sales}')\n",
        "plt.axhline(median_sales, color='g', linestyle='-', label=f'Median: {median_sales}')\n",
        "plt.axhline(mode_sales, color='b', linestyle='-', label=f'Mode: {mode_sales}')\n",
        "plt.title('Scatter Plot of Units Sold with Mean, Median, Mode')\n",
        "plt.legend()\n",
        "plt.show()\n"
      ],
      "metadata": {
        "colab": {
          "base_uri": "https://localhost:8080/",
          "height": 545
        },
        "id": "DAXCxKUzgvGb",
        "outputId": "d1c980bb-952f-487a-c011-e945b8c52e65"
      },
      "execution_count": 9,
      "outputs": [
        {
          "output_type": "display_data",
          "data": {
            "text/plain": [
              "<Figure size 800x600 with 1 Axes>"
            ],
            "image/png": "[encoded data removed]"
          },
          "metadata": {}
        }
      ]
    },
    {
      "cell_type": "markdown",
      "source": [
        "## 3. Scatter Plot\n",
        "**Output & Interpretation:**\n",
        "\n",
        "- The scatter plot shows each individual data point as dots on the graph, which can give a more granular view of the data distribution.\n",
        "- The horizontal lines for the mean, median, and mode help you compare these measures against actual data points.\n",
        "\n",
        "What This Tells Us:\n",
        "\n",
        "- The scatter plot is useful for spotting outliers and identifying how the data is distributed along the axis.\n",
        "\n",
        "- Outliers will appear as dots far away from the majority of data points, potentially pulling the mean away from the median.\n",
        "\n",
        "- The mode in the scatter plot will be where the highest number of dots are clustered.\n",
        "\n",
        "- If there are extreme outliers, the mean will shift away from the median.\n",
        "\n",
        "- If the data is symmetrical, the mean, median, and mode will be aligned closely."
      ],
      "metadata": {
        "id": "1PxSdX5zipP5"
      }
    },
    {
      "cell_type": "markdown",
      "source": [
        "Mean:\n",
        "\n",
        "    The mean is highly sensitive to outliers. In our case, the mean of 500 is skewed by the extreme value of 1000 (a high sale of electronics).\n",
        "    The mean is useful when the data is roughly symmetrical without outliers.\n",
        "\n",
        "Median:\n",
        "\n",
        "    The median is not affected by outliers. It gives a better central value in cases where there are extreme values (like the 1000 units sold for electronics).\n",
        "    The median is useful for skewed data or data with outliers, like in housing prices or income distributions.\n",
        "\n",
        "Mode:\n",
        "\n",
        "    The mode (100) reflects the most frequently sold number of units. If many customers buy 100 units of a particular product, the mode captures that information.\n",
        "    The mode is particularly useful for understanding which product or category is the most popular or the most frequently purchased."
      ],
      "metadata": {
        "id": "x-2uRR-Df1yx"
      }
    },
    {
      "cell_type": "markdown",
      "source": [
        "**Summary of Insights:**\n",
        "\n",
        " **Mean:**\n",
        "- Sensitive to outliers. It can be distorted in the presence of extreme values (especially in skewed distributions).\n",
        "- Provides an overall average but may not represent the \"typical\" value in the case of outliers.\n",
        "\n",
        "**Median:**\n",
        "- Resistant to outliers. The median represents the central value of the dataset, making it more reliable when the data is skewed or has outliers.\n",
        "- In the presence of a skewed distribution, the median is usually a better central tendency measure than the mean.\n",
        "\n",
        "**Mode:**\n",
        "- Useful for identifying the most frequent value in the dataset, especially in categorical data or when you want to know which value occurs most often.\n",
        "- Can be useful for multimodal distributions (multiple peaks), where the mean and median might not reveal the \"most common\" values."
      ],
      "metadata": {
        "id": "q0K4SOkQi9OQ"
      }
    },
    {
      "cell_type": "markdown",
      "source": [
        "**Conclusion:**\n",
        "\n",
        "- **Mean** is best when the data is symmetrical and doesn’t have extreme values. It represents the overall average.\n",
        "- **Median** is more robust to outliers and is better for skewed distributions, where extreme values might distort the mean.\n",
        "- **Mode** gives insight into the most frequent values and is useful for categorical data or understanding product preferences."
      ],
      "metadata": {
        "id": "OWoyX0yFgA-T"
      }
    }
  ]
}